{
 "cells": [
  {
   "cell_type": "code",
   "execution_count": 1,
   "id": "029feaad-0666-4f13-8e1d-13cc048040a2",
   "metadata": {},
   "outputs": [],
   "source": [
    "import pandas as pd \n",
    "import numpy as np"
   ]
  },
  {
   "cell_type": "code",
   "execution_count": 2,
   "id": "8497664b-a30d-4bf6-a948-a81dcd68ec8c",
   "metadata": {},
   "outputs": [],
   "source": [
    "df = pd.read_csv('Chicago_Traffic_Crashes_-_Crashes_20240326.tsv',delimiter='\\t',low_memory = False)"
   ]
  },
  {
   "cell_type": "code",
   "execution_count": 3,
   "id": "218f5a32-a27f-43dc-bc59-0c80129be6be",
   "metadata": {},
   "outputs": [],
   "source": [
    "from ydata_profiling import ProfileReport"
   ]
  },
  {
   "cell_type": "code",
   "execution_count": 4,
   "id": "92272f31-6520-4089-bdc5-9463a66f2e66",
   "metadata": {},
   "outputs": [],
   "source": [
    "Chicago = ProfileReport(df, title = 'Chicago Crash Report')"
   ]
  },
  {
   "cell_type": "code",
   "execution_count": null,
   "id": "5dcfca32-a265-4ec3-af3a-37bc97d924a9",
   "metadata": {},
   "outputs": [
    {
     "data": {
      "application/vnd.jupyter.widget-view+json": {
       "model_id": "015845b58331499fb5f2484f285a9128",
       "version_major": 2,
       "version_minor": 0
      },
      "text/plain": [
       "Summarize dataset:   0%|          | 0/5 [00:00<?, ?it/s]"
      ]
     },
     "metadata": {},
     "output_type": "display_data"
    }
   ],
   "source": [
    "Chicago.to_file('Chicago Crash Report.html')"
   ]
  },
  {
   "cell_type": "code",
   "execution_count": null,
   "id": "70917904-99bb-46a3-9eb7-6e2910cc5b45",
   "metadata": {},
   "outputs": [],
   "source": []
  }
 ],
 "metadata": {
  "kernelspec": {
   "display_name": "Python 3 (ipykernel)",
   "language": "python",
   "name": "python3"
  },
  "language_info": {
   "codemirror_mode": {
    "name": "ipython",
    "version": 3
   },
   "file_extension": ".py",
   "mimetype": "text/x-python",
   "name": "python",
   "nbconvert_exporter": "python",
   "pygments_lexer": "ipython3",
   "version": "3.11.5"
  }
 },
 "nbformat": 4,
 "nbformat_minor": 5
}
