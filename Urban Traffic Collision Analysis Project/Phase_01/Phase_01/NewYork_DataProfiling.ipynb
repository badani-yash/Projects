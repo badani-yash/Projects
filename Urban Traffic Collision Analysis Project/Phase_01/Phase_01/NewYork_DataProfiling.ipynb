{
 "cells": [
  {
   "cell_type": "code",
   "execution_count": 1,
   "id": "3abda20d-fe0a-4af5-9172-cd0b04dc70f1",
   "metadata": {},
   "outputs": [],
   "source": [
    "import pandas as pd \n",
    "import numpy as np"
   ]
  },
  {
   "cell_type": "code",
   "execution_count": 2,
   "id": "0bc64e1d-5dcd-47e3-9376-f86880db3800",
   "metadata": {},
   "outputs": [],
   "source": [
    "df = pd.read_csv('NY_Motor_Vehicle_Collisions_-_Crashes_20240326.tsv',delimiter='\\t',low_memory = False)"
   ]
  },
  {
   "cell_type": "code",
   "execution_count": 3,
   "id": "4986f0ea-229e-4bd2-8a80-36877ae55e77",
   "metadata": {},
   "outputs": [],
   "source": [
    "from ydata_profiling import ProfileReport"
   ]
  },
  {
   "cell_type": "code",
   "execution_count": 4,
   "id": "9ebe504a-3e99-49e7-b0e5-d41e684b3f3b",
   "metadata": {},
   "outputs": [],
   "source": [
    "NewYork = ProfileReport(df, title = 'NewYork Crash Report')"
   ]
  },
  {
   "cell_type": "code",
   "execution_count": 6,
   "id": "2f9993a3-b8e4-407a-8ce0-4453a92dc025",
   "metadata": {},
   "outputs": [
    {
     "data": {
      "application/vnd.jupyter.widget-view+json": {
       "model_id": "b419b786b43c4b77b59d6499f955310d",
       "version_major": 2,
       "version_minor": 0
      },
      "text/plain": [
       "Export report to file:   0%|          | 0/1 [00:00<?, ?it/s]"
      ]
     },
     "metadata": {},
     "output_type": "display_data"
    }
   ],
   "source": [
    "NewYork.to_file('NeWYOrkCrash Report.html')"
   ]
  },
  {
   "cell_type": "code",
   "execution_count": null,
   "id": "ca61025c-64e1-4670-b90a-94790ca12368",
   "metadata": {},
   "outputs": [],
   "source": []
  }
 ],
 "metadata": {
  "kernelspec": {
   "display_name": "Python 3 (ipykernel)",
   "language": "python",
   "name": "python3"
  },
  "language_info": {
   "codemirror_mode": {
    "name": "ipython",
    "version": 3
   },
   "file_extension": ".py",
   "mimetype": "text/x-python",
   "name": "python",
   "nbconvert_exporter": "python",
   "pygments_lexer": "ipython3",
   "version": "3.11.5"
  }
 },
 "nbformat": 4,
 "nbformat_minor": 5
}
